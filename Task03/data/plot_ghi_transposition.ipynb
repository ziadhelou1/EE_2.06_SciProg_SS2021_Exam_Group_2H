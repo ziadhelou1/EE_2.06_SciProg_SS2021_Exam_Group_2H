{
 "cells": [
  {
   "cell_type": "code",
   "execution_count": null,
   "metadata": {
    "collapsed": false,
    "jupyter": {
     "outputs_hidden": false
    }
   },
   "outputs": [],
   "source": [
    "%matplotlib inline"
   ]
  },
  {
   "cell_type": "markdown",
   "metadata": {},
   "source": [
    "\n",
    "# GHI to POA Transposition\n",
    "\n",
    "Example of generating clearsky GHI and POA irradiance.\n"
   ]
  },
  {
   "cell_type": "markdown",
   "metadata": {},
   "source": [
    "This example shows how to use the\n",
    ":py:meth:`pvlib.location.Location.get_clearsky` method to generate clearsky\n",
    "GHI data as well as how to use the\n",
    ":py:meth:`pvlib.irradiance.get_total_irradiance` function to transpose\n",
    "GHI data to Plane of Array (POA) irradiance.\n",
    "\n"
   ]
  },
  {
   "cell_type": "code",
   "execution_count": null,
   "metadata": {
    "collapsed": false,
    "jupyter": {
     "outputs_hidden": false
    }
   },
   "outputs": [],
   "source": [
    "from pvlib import location\n",
    "from pvlib import irradiance\n",
    "import pandas as pd\n",
    "from matplotlib import pyplot as plt\n",
    "\n",
    "# For this example, we will be using Golden, Colorado\n",
    "tz = 'MST'\n",
    "lat, lon = 39.755, -105.221\n",
    "\n",
    "# Create location object to store lat, lon, timezone\n",
    "site = location.Location(lat, lon, tz=tz)\n",
    "\n",
    "\n",
    "# Calculate clear-sky GHI and transpose to plane of array\n",
    "# Define a function so that we can re-use the sequence of operations with\n",
    "# different locations\n",
    "def get_irradiance(site_location, date, tilt, surface_azimuth):\n",
    "    # Creates one day's worth of 10 min intervals\n",
    "    times = pd.date_range(date, freq='10min', periods=6*24,\n",
    "                          tz=site_location.tz)\n",
    "    # Generate clearsky data using the Ineichen model, which is the default\n",
    "    # The get_clearsky method returns a dataframe with values for GHI, DNI,\n",
    "    # and DHI\n",
    "    clearsky = site_location.get_clearsky(times)\n",
    "    # Get solar azimuth and zenith to pass to the transposition function\n",
    "    solar_position = site_location.get_solarposition(times=times)\n",
    "    # Use the get_total_irradiance function to transpose the GHI to POA\n",
    "    POA_irradiance = irradiance.get_total_irradiance(\n",
    "        surface_tilt=tilt,\n",
    "        surface_azimuth=surface_azimuth,\n",
    "        dni=clearsky['dni'],\n",
    "        ghi=clearsky['ghi'],\n",
    "        dhi=clearsky['dhi'],\n",
    "        solar_zenith=solar_position['apparent_zenith'],\n",
    "        solar_azimuth=solar_position['azimuth'])\n",
    "    # Return DataFrame with only GHI and POA\n",
    "    return pd.DataFrame({'GHI': clearsky['ghi'],\n",
    "                         'POA': POA_irradiance['poa_global']})\n",
    "\n",
    "\n",
    "# Get irradiance data for summer and winter solstice, assuming 25 degree tilt\n",
    "# and a south facing array\n",
    "summer_irradiance = get_irradiance(site, '06-20-2020', 25, 180)\n",
    "winter_irradiance = get_irradiance(site, '12-21-2020', 25, 180)\n",
    "\n",
    "# Convert Dataframe Indexes to Hour:Minute format to make plotting easier\n",
    "summer_irradiance.index = summer_irradiance.index.strftime(\"%H:%M\")\n",
    "winter_irradiance.index = winter_irradiance.index.strftime(\"%H:%M\")\n",
    "\n",
    "# Plot GHI vs. POA for winter and summer\n",
    "fig, (ax1, ax2) = plt.subplots(1, 2, sharey=True)\n",
    "summer_irradiance['GHI'].plot(ax=ax1, label='GHI')\n",
    "summer_irradiance['POA'].plot(ax=ax1, label='POA')\n",
    "winter_irradiance['GHI'].plot(ax=ax2, label='GHI')\n",
    "winter_irradiance['POA'].plot(ax=ax2, label='POA')\n",
    "ax1.set_xlabel('Time of day (Summer)')\n",
    "ax2.set_xlabel('Time of day (Winter)')\n",
    "ax1.set_ylabel('Irradiance ($W/m^2$)')\n",
    "ax1.legend()\n",
    "ax2.legend()\n",
    "plt.show()"
   ]
  },
  {
   "cell_type": "markdown",
   "metadata": {},
   "source": [
    "Note that in Summer, there is not much gain when comparing POA irradiance to\n",
    "GHI. In the winter, however, POA irradiance is significantly higher than\n",
    "GHI. This is because, in winter, the sun is much lower in the sky, so a\n",
    "tilted array will be at a more optimal angle compared to a flat array.\n",
    "In summer, the sun gets much higher in the sky, and there is very little\n",
    "gain for a tilted array compared to a flat array.\n",
    "\n"
   ]
  }
 ],
 "metadata": {
  "kernelspec": {
   "display_name": "Python 3",
   "language": "python",
   "name": "python3"
  },
  "language_info": {
   "codemirror_mode": {
    "name": "ipython",
    "version": 3
   },
   "file_extension": ".py",
   "mimetype": "text/x-python",
   "name": "python",
   "nbconvert_exporter": "python",
   "pygments_lexer": "ipython3",
   "version": "3.8.5"
  }
 },
 "nbformat": 4,
 "nbformat_minor": 4
}
